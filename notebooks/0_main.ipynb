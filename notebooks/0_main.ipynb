{
 "cells": [
  {
   "cell_type": "markdown",
   "id": "ce3c61b8-2237-46ae-82e5-fa4cb460d291",
   "metadata": {},
   "source": [
    "# Proyecto de Aprendizaje Automático\n",
    "## Perceptrón Multicapa\n",
    "Este proyecto es una introducción a las redes neuronales artificiales: con la implementación de perceptrones multicapa.  \n",
    "Se utilizan los datos del Wisconsin Breast Cancer Dataset (WBCD)."
   ]
  },
  {
   "cell_type": "markdown",
   "id": "f16c31a7-cb77-401d-b7d3-aa4154f575de",
   "metadata": {},
   "source": [
    "## Estructura de ficheros"
   ]
  },
  {
   "cell_type": "markdown",
   "id": "1baef819-8ac5-4864-a0a5-ed0cf62534ed",
   "metadata": {},
   "source": [
    "```bash\n",
    "/perceptron\n",
    "│\n",
    "├── data/                              # Carpeta para datos crudos y preprocesados\n",
    "│   ├── raw/                           # Datos originales\n",
    "│   │   └── data.csv                   # Archivo de datos principal\n",
    "│   └── processed/                     # Datos preprocesados y normalizados\n",
    "│       ├─── log_normalized.csv        # Dataset normalizado con Log Transform\n",
    "│       ├─── minmax_normalized.csv     # Dataset normalizado con Min-Max Scaling\n",
    "│       ├─── robust_normalized.csv     # Dataset normalizado con Rotust Scaling\n",
    "│       └─── zscore_normalized.csv     # Dataset normalizado con Z-score Normalization\n",
    "├── notebooks/                         # Archivos Jupyter Notebook\n",
    "│   ├── 0 main.ipynb                   # Orquestador principal\n",
    "│   ├── 1 data_analysis.ipynb          # Análisis de datos\n",
    "│   ├── 2 normalization.ipynb          # Normalización de datos\n",
    "│   ├── 3 data_visualization.ipynb     # Visualización de datos\n",
    "│   ├── data_preprocessing.ipynb       # Preprocesamiento\n",
    "│   ├── model_training.ipynb           # Entrenamiento del modelo\n",
    "│   ├── prediction.ipynb               # Predicción y evaluación\n",
    "│   └── documentation.ipynb            # Documentación de funciones\n",
    "├── output/                            # Resultados del proyecto\n",
    "│   ├── figures/                       # Imágenes y gráficos\n",
    "│   │   ├──── boxplot_features.png     # Gráfico de caja (boxplots)\n",
    "│   │   ├──── correlation_heatmap.png  # Gráfico Heatmap: mapa de calor para correlaciones\n",
    "│   │   ├──── feature_importance.png   # Gráfico de Barras de Importancia de Característic\n",
    "│   │   ├──── pairplot_features.png    # Gráfico de Pares para las características más relevantes\n",
    "│   │   ├──── pca_visualization.png    # Gráfico para ver la separación de clases\n",
    "│   │   ├──── radar_plot.png           # Gráfico de radar\n",
    "│   │   ├──── violin_plot_log.png      # Gráfico de violín con normalización log\n",
    "│   │   ├──── violin_plot_minmax.png   # Gráfico de violín con normalización min-max\n",
    "│   │   ├──── violin_plot_robust.png   # Gráfico de violín con normalización robusta\n",
    "│   │   └──── violin_plot_zscore.png   # Gráfico de violín con normalización z-score\n",
    "│   ├── models/                        # Resultados del modelo\n",
    "│   └── features.json                  # JSON con las distribuciones de probabilidad\n",
    "├── utils/                             # Funciones reutilizables\n",
    "│   ├── config.py                      # Hiperparámetros y configuraciones\n",
    "│   ├── neural_network_functions.py    # Funciones para el modelo\n",
    "│   ├── statistical_functions.py       # Funciones estadísticas\n",
    "│   ├── preprocessing_functions.py     # Funciones de preprocesamiento\n",
    "│   └── evaluation_functions.py        # Funciones de evaluación\n",
    "├── requirements.txt                   # Librerías usadas con Pip\n",
    "└── README.md                          # Instalación e Introducción al proyecto\n",
    "```"
   ]
  },
  {
   "cell_type": "markdown",
   "id": "f6380464-a7ae-4b56-94c5-ecf71d4ff186",
   "metadata": {},
   "source": [
    "## Estructura de los Notebooks\n",
    "\n",
    "0. main.ipynb\n",
    "    - Punto de entrada del proyecto y\n",
    "    - el \"orquestador\" del proyecto\n",
    "    - Definimos los hiperparámetros y configuraciones\n",
    "    - Llamamos a funciones\n",
    "      \n",
    "2. **Análisis de datos**: \n",
    "   - [1 data_analysis.ipynb](1_data_analysis.ipynb)\n",
    "   - Primer paso para entender los datos\n",
    "   - Análisis estadístico inicial\n",
    "   - Identificación de características\n",
    "\n",
    "4. data_visualization.ipynb\n",
    "   - Visualización de distribuciones\n",
    "   - Gráficos exploratorios\n",
    "   - Comprensión visual de los datos\n",
    "\n",
    "5. data_preprocessing.ipynb\n",
    "   - Limpieza de datos\n",
    "   - Normalización\n",
    "       - Parámetro: diferentes métodos de normalización \n",
    "   - Separación de datos en entrenamiento y validación\n",
    "       - Parámetro: el porcentaje de división train/val\n",
    "   - Preparación para modelado\n",
    "\n",
    "6. model_training.ipynb\n",
    "   - Construcción del modelo\n",
    "   - Función flexible para construir el modelo que acepte parámetros como:\n",
    "        - Parámetro: número de capas\n",
    "        - Parámetro: neuronas por capa\n",
    "        - Parámetro: funciones de activación\n",
    "        - Parámetro: diferentes inicializadores de pesos\n",
    "        - Parámetro: tasa de aprendizaje\n",
    "        - Parámetro: algoritmo de optimización\n",
    "        - Parámetro: number of Epochs\n",
    "   - Entrenamiento de la red neuronal\n",
    "\n",
    "7. prediction.ipynb\n",
    "   - Evaluación final\n",
    "   - Predicciones\n",
    "   - Métricas de rendimiento\n",
    "   - Funciones para visualizar y comparar resultados de diferentes configuraciones\n",
    "\n",
    "\n",
    "* Archivo JSON con las diferentes configuraciones"
   ]
  },
  {
   "cell_type": "markdown",
   "id": "b2fcd25b-c64e-4ae4-a1e4-cb35398001fa",
   "metadata": {},
   "source": [
    "## Estructura del proyecto\n",
    "\n",
    "### data/\n",
    "- data.csv\n",
    "\n",
    "\n",
    "### notebooks/\n",
    "0. main.ipynb\n",
    "1. data_preprocessing.ipynb\n",
    "2. graphical_analysis.ipynb\n",
    "3. neural_network_functions.ipynb\n",
    "4. forward_backward_propagation.ipynb\n",
    "5. training_loop.ipynb\n",
    "\n",
    "### src/\n",
    "- ft_functions.py\n",
    "\n",
    "### output/\n",
    "- "
   ]
  },
  {
   "cell_type": "markdown",
   "id": "39965a23-56d2-49a9-922b-e3cad9ae06fa",
   "metadata": {},
   "source": [
    "## Contenido de los Notebooks"
   ]
  },
  {
   "cell_type": "code",
   "execution_count": null,
   "id": "be8e73d5-dd07-457a-8319-4d2cc5b00f7e",
   "metadata": {},
   "outputs": [],
   "source": []
  },
  {
   "cell_type": "code",
   "execution_count": null,
   "id": "30a80599-dfa3-45ea-b511-5b17a5afa244",
   "metadata": {},
   "outputs": [],
   "source": []
  },
  {
   "cell_type": "markdown",
   "id": "a1cc2c0a-1a83-4246-b40c-f0238a7a2c2c",
   "metadata": {},
   "source": [
    "https://medium.com/@tutorialcreation81/exploratory-data-analysis-of-breast-cancer-dataset-8c4cd7712f6f\n",
    "\n",
    "https://medium.com/analytics-vidhya/explainable-ai-the-next-level-c6b4dadc240\n",
    "\n",
    "https://www.kaggle.com/code/hanzlanawaz/99-breast-cancer-prediction-using-xgboost\n",
    "\n",
    "\n",
    "'radius_mean', 'texture_mean', 'perimeter_mean',\n",
    "       'area_mean', 'smoothness_mean', 'compactness_mean', 'concavity_mean',\n",
    "       'concave points_mean', 'symmetry_mean', 'fractal_dimension_mean',\n",
    "       'radius_se', 'texture_se', 'perimeter_se', 'area_se', 'smoothness_se',\n",
    "       'compactness_se', 'concavity_se', 'concave points_se', 'symmetry_se',\n",
    "       'fractal_dimension_se', 'radius_worst', 'texture_worst',\n",
    "       'perimeter_worst', 'area_worst', 'smoothness_worst',\n",
    "       'compactness_worst', 'concavity_worst', 'concave points_worst',\n",
    "       'symmetry_worst', 'fractal_dimension_worst'"
   ]
  }
 ],
 "metadata": {
  "kernelspec": {
   "display_name": "Python 3 (ipykernel)",
   "language": "python",
   "name": "python3"
  },
  "language_info": {
   "codemirror_mode": {
    "name": "ipython",
    "version": 3
   },
   "file_extension": ".py",
   "mimetype": "text/x-python",
   "name": "python",
   "nbconvert_exporter": "python",
   "pygments_lexer": "ipython3",
   "version": "3.12.2"
  }
 },
 "nbformat": 4,
 "nbformat_minor": 5
}
