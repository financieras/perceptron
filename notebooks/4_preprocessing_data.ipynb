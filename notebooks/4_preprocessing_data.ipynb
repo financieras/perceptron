{
 "cells": [
  {
   "cell_type": "markdown",
   "id": "f65fe139-f425-481a-9e02-873d93bcb487",
   "metadata": {},
   "source": [
    "# Preprocesamiento de datos"
   ]
  },
  {
   "cell_type": "code",
   "execution_count": 1,
   "id": "87310109-6729-4d74-8295-1bcbd91956a4",
   "metadata": {},
   "outputs": [],
   "source": [
    "import numpy as np\n",
    "import pandas as pd\n",
    "from sklearn.model_selection import train_test_split\n",
    "from tabulate import tabulate\n",
    "import os"
   ]
  },
  {
   "cell_type": "markdown",
   "id": "eab48355-d0cc-4fc6-adc9-33fc49570a2a",
   "metadata": {},
   "source": [
    "## Lectura y preparación inicial de los datos"
   ]
  },
  {
   "cell_type": "markdown",
   "id": "f19a5381-b5fc-449f-9501-7a57d00e0883",
   "metadata": {},
   "source": [
    "### Cargar el dataset"
   ]
  },
  {
   "cell_type": "code",
   "execution_count": 2,
   "id": "30a7e575-03dd-435f-b4e0-9cbcb056e43c",
   "metadata": {},
   "outputs": [],
   "source": [
    "file_path = \"../data/raw/data.csv\"\n",
    "df = pd.read_csv(file_path, header=None)"
   ]
  },
  {
   "cell_type": "markdown",
   "id": "7c4cdfe2-605f-4c8d-8ebe-909d8d06cb33",
   "metadata": {},
   "source": [
    "### Preparar los datos"
   ]
  },
  {
   "cell_type": "code",
   "execution_count": 3,
   "id": "eca53ebc-cc84-47ba-b3e6-2ebd2ec7e1de",
   "metadata": {},
   "outputs": [],
   "source": [
    "# Crear nombres cortos para las características\n",
    "feature_names = [f'feat{str(i+1).zfill(2)}' for i in range(30)]\n",
    "\n",
    "# Eliminar columna ID y asignar nombres a las columnas\n",
    "df = df.drop([0], axis=1)  # El ID no aporta información\n",
    "df.columns = ['diagnosis'] + feature_names\n",
    "\n",
    "# Mapear diagnóstico de M/B a 0/1\n",
    "df['diagnosis'] = df['diagnosis'].map({'M': 0, 'B': 1})"
   ]
  },
  {
   "cell_type": "markdown",
   "id": "51310569-ffe4-4ef3-be50-e6143509268e",
   "metadata": {},
   "source": [
    "## Dividir en características (X) y target (y)"
   ]
  },
  {
   "cell_type": "code",
   "execution_count": 4,
   "id": "98d4d105-26e8-4c37-8b88-fa3ed964bf65",
   "metadata": {},
   "outputs": [],
   "source": [
    "X = df[feature_names]\n",
    "y = df['diagnosis']"
   ]
  },
  {
   "cell_type": "markdown",
   "id": "286c719e-02bd-43a1-8844-01a219faa84f",
   "metadata": {},
   "source": [
    "## Dividir en conjuntos de entrenamiento y test\n",
    "Proponemos estos porcentajes para la división: 80% - 20%\n",
    "Pero los dejamos como parámetros."
   ]
  },
  {
   "cell_type": "code",
   "execution_count": 5,
   "id": "cb590af2-d5e2-404e-aa51-4a50b67ed87f",
   "metadata": {},
   "outputs": [],
   "source": [
    "# Parámetro del porcentaje destinado a entrenamiento / test\n",
    "train_size = 0.8\n",
    "test_size = 1 - train_size\n",
    "\n",
    "X_train, X_test, y_train, y_test = train_test_split(\n",
    "    X, y, \n",
    "    test_size=0.2, \n",
    "    random_state=42,\n",
    "    stratify=y  # Mantener la proporción de clases en ambos conjuntos\n",
    ")"
   ]
  },
  {
   "cell_type": "code",
   "execution_count": null,
   "id": "cc34b37f-350e-4fe4-9a75-3297db828c66",
   "metadata": {},
   "outputs": [],
   "source": [
    "# 5. Normalización Z-score usando SOLO los datos de entrenamiento\n",
    "# Calcular media y desviación estándar del conjunto de entrenamiento\n",
    "mean_train = X_train.mean()\n",
    "std_train = X_train.std()\n",
    "\n",
    "# Normalizar conjuntos de entrenamiento y test\n",
    "X_train_normalized = (X_train - mean_train) / std_train\n",
    "X_test_normalized = (X_test - mean_train) / std_train\n",
    "\n",
    "# 6. Guardar los parámetros de normalización\n",
    "normalization_params = {\n",
    "    'mean': mean_train,\n",
    "    'std': std_train\n",
    "}\n",
    "\n",
    "# 7. Crear directorio para datos procesados si no existe\n",
    "output_dir = \"../data/processed\"\n",
    "os.makedirs(output_dir, exist_ok=True)\n",
    "\n",
    "# 8. Guardar los conjuntos normalizados y los parámetros\n",
    "# Conjuntos de entrenamiento\n",
    "train_df = pd.DataFrame(X_train_normalized, columns=feature_names)\n",
    "train_df.insert(0, 'diagnosis', y_train.values)\n",
    "train_df.to_csv(f\"{output_dir}/train_normalized.csv\", index=False)\n",
    "\n",
    "# Conjuntos de test\n",
    "test_df = pd.DataFrame(X_test_normalized, columns=feature_names)\n",
    "test_df.insert(0, 'diagnosis', y_test.values)\n",
    "test_df.to_csv(f\"{output_dir}/test_normalized.csv\", index=False)\n",
    "\n",
    "# Parámetros de normalización\n",
    "params_df = pd.DataFrame({\n",
    "    'mean': mean_train,\n",
    "    'std': std_train\n",
    "})\n",
    "params_df.to_csv(f\"{output_dir}/normalization_params.csv\")\n",
    "\n",
    "# 9. Imprimir información sobre los conjuntos de datos\n",
    "print(\"\\nInformación sobre la división de datos:\")\n",
    "print(f\"Tamaño total del dataset: {len(df)}\")\n",
    "print(f\"Tamaño del conjunto de entrenamiento: {len(X_train)}\")\n",
    "print(f\"Tamaño del conjunto de test: {len(X_test)}\")\n",
    "\n",
    "# Distribución de clases\n",
    "print(\"\\nDistribución de clases:\")\n",
    "print(\"Conjunto de entrenamiento:\")\n",
    "print(y_train.value_counts(normalize=True).round(3))\n",
    "print(\"\\nConjunto de test:\")\n",
    "print(y_test.value_counts(normalize=True).round(3))\n",
    "\n",
    "# Mostrar primeras filas del conjunto de entrenamiento normalizado\n",
    "print(\"\\nPrimeras filas del conjunto de entrenamiento normalizado:\")\n",
    "print(tabulate(train_df.head(), headers='keys', tablefmt='rst', showindex=True))\n",
    "\n",
    "# Verificar que los parámetros de normalización se guardaron correctamente\n",
    "print(\"\\nParámetros de normalización guardados en:\", f\"{output_dir}/normalization_params.csv\")"
   ]
  }
 ],
 "metadata": {
  "kernelspec": {
   "display_name": "Python 3 (ipykernel)",
   "language": "python",
   "name": "python3"
  },
  "language_info": {
   "codemirror_mode": {
    "name": "ipython",
    "version": 3
   },
   "file_extension": ".py",
   "mimetype": "text/x-python",
   "name": "python",
   "nbconvert_exporter": "python",
   "pygments_lexer": "ipython3",
   "version": "3.10.12"
  }
 },
 "nbformat": 4,
 "nbformat_minor": 5
}
